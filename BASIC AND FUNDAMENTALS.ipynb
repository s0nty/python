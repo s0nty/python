{
 "cells": [
  {
   "cell_type": "code",
   "execution_count": 3,
   "id": "a6921c3d",
   "metadata": {},
   "outputs": [
    {
     "name": "stdout",
     "output_type": "stream",
     "text": [
      "LALIT\n"
     ]
    }
   ],
   "source": [
    "print('LALIT')"
   ]
  },
  {
   "cell_type": "code",
   "execution_count": 6,
   "id": "90f55344",
   "metadata": {},
   "outputs": [
    {
     "name": "stdout",
     "output_type": "stream",
     "text": [
      "the value of the  32 is <class 'str'>\n"
     ]
    }
   ],
   "source": [
    "z='32'\n",
    "print('the value of the ',z,'is',type(z))"
   ]
  },
  {
   "cell_type": "code",
   "execution_count": 7,
   "id": "50402f4f",
   "metadata": {},
   "outputs": [],
   "source": [
    "g='3.4'\n",
    "print('the value of the ',g,)"
   ]
  },
  {
   "cell_type": "code",
   "execution_count": 9,
   "id": "ff1d79cb",
   "metadata": {},
   "outputs": [
    {
     "name": "stdout",
     "output_type": "stream",
     "text": [
      "<class 'float'> 4.0\n"
     ]
    }
   ],
   "source": [
    "#type casting\n",
    "a=4\n",
    "b=float(a)\n",
    "print(type(b),b)"
   ]
  },
  {
   "cell_type": "code",
   "execution_count": 11,
   "id": "82e52886",
   "metadata": {},
   "outputs": [
    {
     "name": "stdout",
     "output_type": "stream",
     "text": [
      "<class 'int'> 3\n"
     ]
    }
   ],
   "source": [
    "q=3.13\n",
    "w=int(q)\n",
    "print(type(w),w)\n",
    "    "
   ]
  },
  {
   "cell_type": "code",
   "execution_count": null,
   "id": "deb5bdc1",
   "metadata": {},
   "outputs": [],
   "source": []
  },
  {
   "cell_type": "code",
   "execution_count": 12,
   "id": "a7e5f2c9",
   "metadata": {},
   "outputs": [
    {
     "name": "stdout",
     "output_type": "stream",
     "text": [
      "<class 'str'> 2.2\n"
     ]
    }
   ],
   "source": [
    "e=2.2\n",
    "r=str(e)\n",
    "print(type(r),r)"
   ]
  },
  {
   "cell_type": "code",
   "execution_count": 17,
   "id": "233bf256",
   "metadata": {},
   "outputs": [
    {
     "name": "stdout",
     "output_type": "stream",
     "text": [
      "<class 'int'> 1\n"
     ]
    }
   ],
   "source": [
    "t='1'\n",
    "y=int(t)\n",
    "print(type(y),y)"
   ]
  },
  {
   "cell_type": "code",
   "execution_count": 14,
   "id": "768c48dd",
   "metadata": {},
   "outputs": [
    {
     "name": "stdout",
     "output_type": "stream",
     "text": [
      "<class 'str'> 22\n"
     ]
    }
   ],
   "source": [
    "u=22\n",
    "i=str(u)\n",
    "print(type(i),i)"
   ]
  },
  {
   "cell_type": "code",
   "execution_count": 18,
   "id": "44c63a7e",
   "metadata": {},
   "outputs": [
    {
     "name": "stdout",
     "output_type": "stream",
     "text": [
      "<class 'int'> 3\n"
     ]
    }
   ],
   "source": [
    "s='3.14'\n",
    "f=float(s)\n",
    "g=int(f)\n",
    "print(type(g),g)"
   ]
  },
  {
   "cell_type": "code",
   "execution_count": 23,
   "id": "16067c5b",
   "metadata": {},
   "outputs": [
    {
     "name": "stdout",
     "output_type": "stream",
     "text": [
      "/n\n"
     ]
    }
   ],
   "source": [
    " print('/n')"
   ]
  },
  {
   "cell_type": "code",
   "execution_count": 27,
   "id": "6e796c0c",
   "metadata": {
    "scrolled": true
   },
   "outputs": [
    {
     "name": "stdout",
     "output_type": "stream",
     "text": [
      "\n",
      "\n"
     ]
    }
   ],
   "source": [
    "print('\\n')"
   ]
  },
  {
   "cell_type": "code",
   "execution_count": 33,
   "id": "87f97c10",
   "metadata": {
    "scrolled": true
   },
   "outputs": [
    {
     "name": "stdout",
     "output_type": "stream",
     "text": [
      "the value of b\\n\n",
      "\\n\n"
     ]
    }
   ],
   "source": [
    "\n",
    " b=input('the value of b' )\n",
    "print(b)\n"
   ]
  },
  {
   "cell_type": "code",
   "execution_count": 6,
   "id": "5ddf126c",
   "metadata": {},
   "outputs": [
    {
     "name": "stdout",
     "output_type": "stream",
     "text": [
      "iam namelalit\n",
      "lalit\n",
      "my age29\n",
      "29\n",
      "my height is c105\n",
      "105\n"
     ]
    }
   ],
   "source": [
    "name=input('iam name')\n",
    "print(name)\n",
    "age=int(input('my age'))\n",
    "print(age)\n",
    "c=input('my height is c')\n",
    "print(c)\n",
    "    "
   ]
  },
  {
   "cell_type": "code",
   "execution_count": null,
   "id": "32f1b413",
   "metadata": {},
   "outputs": [],
   "source": []
  },
  {
   "cell_type": "code",
   "execution_count": null,
   "id": "2015dd34",
   "metadata": {},
   "outputs": [],
   "source": []
  }
 ],
 "metadata": {
  "kernelspec": {
   "display_name": "Python 3",
   "language": "python",
   "name": "python3"
  },
  "language_info": {
   "codemirror_mode": {
    "name": "ipython",
    "version": 3
   },
   "file_extension": ".py",
   "mimetype": "text/x-python",
   "name": "python",
   "nbconvert_exporter": "python",
   "pygments_lexer": "ipython3",
   "version": "3.8.8"
  }
 },
 "nbformat": 4,
 "nbformat_minor": 5
}
